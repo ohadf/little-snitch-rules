## Read host file from Steven Black (adware + malware)

import urllib.request
import io
import re

HOST_FILE_URL = "https://raw.githubusercontent.com/StevenBlack/hosts/master/hosts"

#u = urllib.request.urlopen(HOST_FILE_URL, data = None)
#f = io.TextIOWrapper(u, encoding="utf-8")
#text = f.readlines()

print('TEST')
